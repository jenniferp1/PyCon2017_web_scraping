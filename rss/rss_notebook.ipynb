{
 "cells": [
  {
   "cell_type": "markdown",
   "metadata": {},
   "source": [
    "## RSS"
   ]
  },
  {
   "cell_type": "markdown",
   "metadata": {},
   "source": [
    "You can find RSS feeds on many different sites. [Library of Congress](https://www.loc.gov/rss/) has a lot. Most blogs and news web sites have them, for example [Tech Crunch](https://techcrunch.com/rssfeeds/), [New York Times](http://www.nytimes.com/services/xml/rss/index.html), and [NPR](https://help.npr.org/customer/portal/articles/2094175-where-can-i-find-npr-rss-feeds-). The [DC Public Library](http://www.dclibrary.org/) even gives you an RSS feed of your [catalog searches](https://catalog.dclibrary.org/client/rss/hitlist/dcpl/qu=python). iTunes delivers podcasts by [aggregating RSS feeds](http://itunespartner.apple.com/en/podcasts/faq) from content creators. \n",
    "\n",
    "Today we are going to take a look at the [Netflix Top 100 DVDs](https://dvd.netflix.com/RSSFeeds). We will use the Python package [FeedParser](https://pypi.python.org/pypi/feedparser) to work with the RSS feed. FeedParser will allow us to deconstruct the data in the feed."
   ]
  },
  {
   "cell_type": "code",
   "execution_count": 1,
   "metadata": {
    "collapsed": true
   },
   "outputs": [],
   "source": [
    "import feedparser\n",
    "import pandas as pd"
   ]
  },
  {
   "cell_type": "code",
   "execution_count": 2,
   "metadata": {
    "collapsed": true
   },
   "outputs": [],
   "source": [
    "RSS_URL = \"http://dvd.netflix.com/Top100RSS\""
   ]
  },
  {
   "cell_type": "code",
   "execution_count": 3,
   "metadata": {
    "collapsed": true
   },
   "outputs": [],
   "source": [
    "feed = feedparser.parse(RSS_URL)"
   ]
  },
  {
   "cell_type": "code",
   "execution_count": 4,
   "metadata": {
    "collapsed": false
   },
   "outputs": [
    {
     "data": {
      "text/plain": [
       "feedparser.FeedParserDict"
      ]
     },
     "execution_count": 4,
     "metadata": {},
     "output_type": "execute_result"
    }
   ],
   "source": [
    "type(feed)"
   ]
  },
  {
   "cell_type": "markdown",
   "metadata": {},
   "source": [
    "\"parse\" is the primary function in FeedParser. The returned object is dictionary like and can be handled similarly to a dictionary. For example, we can look at the keys it contains and what type of items those keys are."
   ]
  },
  {
   "cell_type": "code",
   "execution_count": 5,
   "metadata": {
    "collapsed": false
   },
   "outputs": [
    {
     "data": {
      "text/plain": [
       "dict_keys(['feed', 'bozo', 'status', 'headers', 'href', 'namespaces', 'entries', 'encoding', 'version'])"
      ]
     },
     "execution_count": 5,
     "metadata": {},
     "output_type": "execute_result"
    }
   ],
   "source": [
    "feed.keys()"
   ]
  },
  {
   "cell_type": "code",
   "execution_count": 6,
   "metadata": {
    "collapsed": false
   },
   "outputs": [
    {
     "data": {
      "text/plain": [
       "int"
      ]
     },
     "execution_count": 6,
     "metadata": {},
     "output_type": "execute_result"
    }
   ],
   "source": [
    "type(feed.bozo)"
   ]
  },
  {
   "cell_type": "code",
   "execution_count": 7,
   "metadata": {
    "collapsed": false,
    "scrolled": false
   },
   "outputs": [
    {
     "data": {
      "text/plain": [
       "feedparser.FeedParserDict"
      ]
     },
     "execution_count": 7,
     "metadata": {},
     "output_type": "execute_result"
    }
   ],
   "source": [
    "type(feed.feed)"
   ]
  },
  {
   "cell_type": "markdown",
   "metadata": {},
   "source": [
    "We will look at some, but not all, of the data stored in the feed. For more information about the keys, see the [documentation](http://pythonhosted.org/feedparser/).\n",
    "\n",
    "We can use the version to check which type of feed we have."
   ]
  },
  {
   "cell_type": "code",
   "execution_count": 8,
   "metadata": {
    "collapsed": false
   },
   "outputs": [
    {
     "data": {
      "text/plain": [
       "'rss20'"
      ]
     },
     "execution_count": 8,
     "metadata": {},
     "output_type": "execute_result"
    }
   ],
   "source": [
    "feed.version"
   ]
  },
  {
   "cell_type": "markdown",
   "metadata": {},
   "source": [
    "Bozo is an interesing key to know about if you are going to parse a RSS feed in code. FeedParser sets the bozo bit when it detects a feed is not well-formed. (FeedParser will still parse the feed if it is not well-formed.) You can use the bozo bit to create error handling or just print a simple warning."
   ]
  },
  {
   "cell_type": "code",
   "execution_count": 9,
   "metadata": {
    "collapsed": false
   },
   "outputs": [
    {
     "name": "stdout",
     "output_type": "stream",
     "text": [
      "Well done, you have a well-formed feed!\n"
     ]
    }
   ],
   "source": [
    "if feed.bozo == 0:\n",
    "    print(\"Well done, you have a well-formed feed!\")\n",
    "else:\n",
    "    print(\"Potential trouble ahead.\")"
   ]
  },
  {
   "cell_type": "markdown",
   "metadata": {},
   "source": [
    "We can look at some of the feed elements through the feed attribute."
   ]
  },
  {
   "cell_type": "code",
   "execution_count": 10,
   "metadata": {
    "collapsed": false
   },
   "outputs": [
    {
     "data": {
      "text/plain": [
       "dict_keys(['subtitle_detail', 'ttl', 'cf_treatas', 'link', 'links', 'title', 'title_detail', 'language', 'subtitle'])"
      ]
     },
     "execution_count": 10,
     "metadata": {},
     "output_type": "execute_result"
    }
   ],
   "source": [
    "feed.feed.keys()"
   ]
  },
  {
   "cell_type": "code",
   "execution_count": 11,
   "metadata": {
    "collapsed": false
   },
   "outputs": [
    {
     "name": "stdout",
     "output_type": "stream",
     "text": [
      "Netflix Top 100\n",
      "http://dvd.netflix.com\n",
      "Top 100 Netflix movies, published every 2 weeks.\n"
     ]
    }
   ],
   "source": [
    "print(feed.feed.title)\n",
    "print(feed.feed.link)\n",
    "print(feed.feed.description)"
   ]
  },
  {
   "cell_type": "markdown",
   "metadata": {},
   "source": [
    "The [reference section](http://pythonhosted.org/feedparser/reference.html) of the feedparser documenation shows us all the inforamtion thatcan be in a feed. [Annotated Examples](http://pythonhosted.org/feedparser/annotated-examples.html) are also provided. But note the caution provided-\n",
    "\n",
    "\"Caution: Even though many of these elements are required according to the specification, real-world feeds may be missing any element. If an element is not present in the feed, it will not be present in the parsed results. You should not rely on any particular element being present.\"\n",
    "\n",
    "For example, our feed is RSS 2.0. One of the elements available in this version is the published date."
   ]
  },
  {
   "cell_type": "code",
   "execution_count": 12,
   "metadata": {
    "collapsed": false
   },
   "outputs": [
    {
     "ename": "AttributeError",
     "evalue": "object has no attribute 'published'",
     "output_type": "error",
     "traceback": [
      "\u001b[1;31m---------------------------------------------------------------------------\u001b[0m",
      "\u001b[1;31mKeyError\u001b[0m                                  Traceback (most recent call last)",
      "\u001b[1;32mC:\\Users\\JP\\Anaconda3\\envs\\python35\\lib\\site-packages\\feedparser.py\u001b[0m in \u001b[0;36m__getattr__\u001b[1;34m(self, key)\u001b[0m\n\u001b[0;32m    398\u001b[0m         \u001b[1;32mtry\u001b[0m\u001b[1;33m:\u001b[0m\u001b[1;33m\u001b[0m\u001b[0m\n\u001b[1;32m--> 399\u001b[1;33m             \u001b[1;32mreturn\u001b[0m \u001b[0mself\u001b[0m\u001b[1;33m.\u001b[0m\u001b[0m__getitem__\u001b[0m\u001b[1;33m(\u001b[0m\u001b[0mkey\u001b[0m\u001b[1;33m)\u001b[0m\u001b[1;33m\u001b[0m\u001b[0m\n\u001b[0m\u001b[0;32m    400\u001b[0m         \u001b[1;32mexcept\u001b[0m \u001b[0mKeyError\u001b[0m\u001b[1;33m:\u001b[0m\u001b[1;33m\u001b[0m\u001b[0m\n",
      "\u001b[1;32mC:\\Users\\JP\\Anaconda3\\envs\\python35\\lib\\site-packages\\feedparser.py\u001b[0m in \u001b[0;36m__getitem__\u001b[1;34m(self, key)\u001b[0m\n\u001b[0;32m    356\u001b[0m                 \u001b[1;32mreturn\u001b[0m \u001b[0mdict\u001b[0m\u001b[1;33m.\u001b[0m\u001b[0m__getitem__\u001b[0m\u001b[1;33m(\u001b[0m\u001b[0mself\u001b[0m\u001b[1;33m,\u001b[0m \u001b[0mrealkey\u001b[0m\u001b[1;33m)\u001b[0m\u001b[1;33m\u001b[0m\u001b[0m\n\u001b[1;32m--> 357\u001b[1;33m         \u001b[1;32mreturn\u001b[0m \u001b[0mdict\u001b[0m\u001b[1;33m.\u001b[0m\u001b[0m__getitem__\u001b[0m\u001b[1;33m(\u001b[0m\u001b[0mself\u001b[0m\u001b[1;33m,\u001b[0m \u001b[0mkey\u001b[0m\u001b[1;33m)\u001b[0m\u001b[1;33m\u001b[0m\u001b[0m\n\u001b[0m\u001b[0;32m    358\u001b[0m \u001b[1;33m\u001b[0m\u001b[0m\n",
      "\u001b[1;31mKeyError\u001b[0m: 'published'",
      "\nDuring handling of the above exception, another exception occurred:\n",
      "\u001b[1;31mAttributeError\u001b[0m                            Traceback (most recent call last)",
      "\u001b[1;32m<ipython-input-12-0ac9e738a544>\u001b[0m in \u001b[0;36m<module>\u001b[1;34m()\u001b[0m\n\u001b[1;32m----> 1\u001b[1;33m \u001b[0mfeed\u001b[0m\u001b[1;33m.\u001b[0m\u001b[0mfeed\u001b[0m\u001b[1;33m.\u001b[0m\u001b[0mpublished\u001b[0m\u001b[1;33m\u001b[0m\u001b[0m\n\u001b[0m",
      "\u001b[1;32mC:\\Users\\JP\\Anaconda3\\envs\\python35\\lib\\site-packages\\feedparser.py\u001b[0m in \u001b[0;36m__getattr__\u001b[1;34m(self, key)\u001b[0m\n\u001b[0;32m    399\u001b[0m             \u001b[1;32mreturn\u001b[0m \u001b[0mself\u001b[0m\u001b[1;33m.\u001b[0m\u001b[0m__getitem__\u001b[0m\u001b[1;33m(\u001b[0m\u001b[0mkey\u001b[0m\u001b[1;33m)\u001b[0m\u001b[1;33m\u001b[0m\u001b[0m\n\u001b[0;32m    400\u001b[0m         \u001b[1;32mexcept\u001b[0m \u001b[0mKeyError\u001b[0m\u001b[1;33m:\u001b[0m\u001b[1;33m\u001b[0m\u001b[0m\n\u001b[1;32m--> 401\u001b[1;33m             \u001b[1;32mraise\u001b[0m \u001b[0mAttributeError\u001b[0m\u001b[1;33m(\u001b[0m\u001b[1;34m\"object has no attribute '%s'\"\u001b[0m \u001b[1;33m%\u001b[0m \u001b[0mkey\u001b[0m\u001b[1;33m)\u001b[0m\u001b[1;33m\u001b[0m\u001b[0m\n\u001b[0m\u001b[0;32m    402\u001b[0m \u001b[1;33m\u001b[0m\u001b[0m\n\u001b[0;32m    403\u001b[0m     \u001b[1;32mdef\u001b[0m \u001b[0m__hash__\u001b[0m\u001b[1;33m(\u001b[0m\u001b[0mself\u001b[0m\u001b[1;33m)\u001b[0m\u001b[1;33m:\u001b[0m\u001b[1;33m\u001b[0m\u001b[0m\n",
      "\u001b[1;31mAttributeError\u001b[0m: object has no attribute 'published'"
     ]
    }
   ],
   "source": [
    "feed.feed.published"
   ]
  },
  {
   "cell_type": "markdown",
   "metadata": {},
   "source": [
    "We can see from our error, our feed is not using 'published'.\n",
    "\n",
    "As with [standard python dictionaries](https://docs.python.org/3.5/library/stdtypes.html#dict), we can use the \"get\" method to see if a key exists. This is useful if we are writing code."
   ]
  },
  {
   "cell_type": "code",
   "execution_count": 13,
   "metadata": {
    "collapsed": false
   },
   "outputs": [
    {
     "data": {
      "text/plain": [
       "'N/A'"
      ]
     },
     "execution_count": 13,
     "metadata": {},
     "output_type": "execute_result"
    }
   ],
   "source": [
    "feed.feed.get('published', 'N/A')"
   ]
  },
  {
   "cell_type": "markdown",
   "metadata": {},
   "source": [
    "The data we are looking for are contained in the entries. Given the feed we are working with, how many entries do you think we have?"
   ]
  },
  {
   "cell_type": "code",
   "execution_count": 14,
   "metadata": {
    "collapsed": false
   },
   "outputs": [
    {
     "data": {
      "text/plain": [
       "100"
      ]
     },
     "execution_count": 14,
     "metadata": {},
     "output_type": "execute_result"
    }
   ],
   "source": [
    "len(feed.entries)"
   ]
  },
  {
   "cell_type": "markdown",
   "metadata": {
    "scrolled": false
   },
   "source": [
    "The items in entries are stored as a list."
   ]
  },
  {
   "cell_type": "code",
   "execution_count": 15,
   "metadata": {
    "collapsed": false
   },
   "outputs": [
    {
     "data": {
      "text/plain": [
       "list"
      ]
     },
     "execution_count": 15,
     "metadata": {},
     "output_type": "execute_result"
    }
   ],
   "source": [
    "type(feed.entries)"
   ]
  },
  {
   "cell_type": "code",
   "execution_count": 23,
   "metadata": {
    "collapsed": false
   },
   "outputs": [
    {
     "data": {
      "text/plain": [
       "feedparser.FeedParserDict"
      ]
     },
     "execution_count": 23,
     "metadata": {},
     "output_type": "execute_result"
    }
   ],
   "source": [
    "type(feed.entries[0])"
   ]
  },
  {
   "cell_type": "code",
   "execution_count": 24,
   "metadata": {
    "collapsed": false
   },
   "outputs": [
    {
     "data": {
      "text/plain": [
       "dict_keys(['links', 'summary_detail', 'link', 'title', 'guidislink', 'title_detail', 'summary', 'id'])"
      ]
     },
     "execution_count": 24,
     "metadata": {},
     "output_type": "execute_result"
    }
   ],
   "source": [
    "feed.entries[0].keys()"
   ]
  },
  {
   "cell_type": "code",
   "execution_count": 25,
   "metadata": {
    "collapsed": false
   },
   "outputs": [
    {
     "data": {
      "text/plain": [
       "'Game of Thrones'"
      ]
     },
     "execution_count": 25,
     "metadata": {},
     "output_type": "execute_result"
    }
   ],
   "source": [
    "feed.entries[0].title"
   ]
  },
  {
   "cell_type": "code",
   "execution_count": 26,
   "metadata": {
    "collapsed": false
   },
   "outputs": [
    {
     "name": "stdout",
     "output_type": "stream",
     "text": [
      "0 Game of Thrones\n",
      "1 Sully\n",
      "2 Jason Bourne\n",
      "3 The Magnificent Seven\n",
      "4 The Accountant\n",
      "5 Hell or High Water\n",
      "6 Hacksaw Ridge\n",
      "7 Star Trek Beyond\n",
      "8 The Legend of Tarzan\n",
      "9 Deepwater Horizon\n",
      "10 Manchester by the Sea\n",
      "11 Free State of Jones\n",
      "12 Suicide Squad\n",
      "13 Independence Day: Resurgence\n",
      "14 The Girl on the Train\n",
      "15 Inferno\n",
      "16 Bad Moms\n",
      "17 Homeland\n",
      "18 X-Men: Apocalypse\n",
      "19 Ghostbusters\n",
      "20 Central Intelligence\n",
      "21 Money Monster\n",
      "22 Passengers\n",
      "23 The Secret Life of Pets\n",
      "24 Florence Foster Jenkins\n",
      "25 Mechanic: Resurrection\n",
      "26 Outlander\n",
      "27 The Infiltrator\n",
      "28 War Dogs\n",
      "29 Jack Reacher: Never Go Back\n",
      "30 Miss Peregrine's Home for Peculiar Children\n",
      "31 Finding Dory\n",
      "32 Now You See Me 2\n",
      "33 Arrival\n",
      "34 Doctor Strange\n",
      "35 The Nice Guys\n",
      "36 Moonlight\n",
      "37 Me Before You\n",
      "38 Snowden\n",
      "39 The Jungle Book (2016)\n",
      "40 Don't Breathe\n",
      "41 The BFG\n",
      "42 Ben-Hur\n",
      "43 The Shallows\n",
      "44 Blood Father\n",
      "45 Captain Fantastic\n",
      "46 Captain America: Civil War\n",
      "47 Sausage Party\n",
      "48 The Huntsman: Winter's War\n",
      "49 Pete's Dragon\n",
      "50 The Man Who Knew Infinity\n",
      "51 Wild Oats\n",
      "52 A Hologram for the King\n",
      "53 Warcraft\n",
      "54 Lion\n",
      "55 Whiskey Tango Foxtrot\n",
      "56 Eye in the Sky\n",
      "57 Bridget Jones's Baby\n",
      "58 Neighbors 2: Sorority Rising\n",
      "59 Keeping Up with the Joneses\n",
      "60 Batman v Superman: Dawn of Justice\n",
      "61 Criminal\n",
      "62 Kubo and the Two Strings\n",
      "63 Patriots Day\n",
      "64 Mother's Day\n",
      "65 Mike and Dave Need Wedding Dates\n",
      "66 Loving\n",
      "67 Alice Through the Looking Glass\n",
      "68 Nocturnal Animals\n",
      "69 The Boss\n",
      "70 Joy\n",
      "71 The Duel\n",
      "72 Storks\n",
      "73 The Finest Hours\n",
      "74 Hello, My Name Is Doris\n",
      "75 The Light Between Oceans\n",
      "76 The Meddler\n",
      "77 The Dressmaker\n",
      "78 Café Society\n",
      "79 11/22/63\n",
      "80 Bridge of Spies\n",
      "81 The Revenant\n",
      "82 Ice Age: Collision Course\n",
      "83 13 Hours: The Secret Soldiers of Benghazi\n",
      "84 Moana\n",
      "85 Miracles from Heaven\n",
      "86 Race\n",
      "87 Nine Lives\n",
      "88 Genius\n",
      "89 Masterminds\n",
      "90 Better Call Saul\n",
      "91 Hunt for the Wilderpeople\n",
      "92 Denial\n",
      "93 Our Kind of Traitor\n",
      "94 Anthropoid\n",
      "95 Allied\n",
      "96 Mr. Church\n",
      "97 The Night Manager\n",
      "98 10 Cloverfield Lane\n",
      "99 The Purge: Election Year\n"
     ]
    }
   ],
   "source": [
    "i = 0\n",
    "for entry in feed.entries:\n",
    "    print(i, feed.entries[i].title)\n",
    "    i += 1"
   ]
  },
  {
   "cell_type": "markdown",
   "metadata": {},
   "source": [
    "Given that information, what is something we can do with this data? Why not make it a dataframe?"
   ]
  },
  {
   "cell_type": "code",
   "execution_count": 27,
   "metadata": {
    "collapsed": true
   },
   "outputs": [],
   "source": [
    "df = pd.DataFrame(feed.entries)"
   ]
  },
  {
   "cell_type": "code",
   "execution_count": 28,
   "metadata": {
    "collapsed": false,
    "scrolled": false
   },
   "outputs": [
    {
     "data": {
      "text/html": [
       "<div>\n",
       "<table border=\"1\" class=\"dataframe\">\n",
       "  <thead>\n",
       "    <tr style=\"text-align: right;\">\n",
       "      <th></th>\n",
       "      <th>guidislink</th>\n",
       "      <th>id</th>\n",
       "      <th>link</th>\n",
       "      <th>links</th>\n",
       "      <th>summary</th>\n",
       "      <th>summary_detail</th>\n",
       "      <th>title</th>\n",
       "      <th>title_detail</th>\n",
       "    </tr>\n",
       "  </thead>\n",
       "  <tbody>\n",
       "    <tr>\n",
       "      <th>0</th>\n",
       "      <td>False</td>\n",
       "      <td>https://dvd.netflix.com/Movie/Game-of-Thrones/...</td>\n",
       "      <td>https://dvd.netflix.com/Movie/Game-of-Thrones/...</td>\n",
       "      <td>[{'rel': 'alternate', 'href': 'https://dvd.net...</td>\n",
       "      <td>&lt;a href=\"https://dvd.netflix.com/Movie/Game-of...</td>\n",
       "      <td>{'base': 'http://dvd.netflix.com/Top100RSS', '...</td>\n",
       "      <td>Game of Thrones</td>\n",
       "      <td>{'base': 'http://dvd.netflix.com/Top100RSS', '...</td>\n",
       "    </tr>\n",
       "    <tr>\n",
       "      <th>1</th>\n",
       "      <td>False</td>\n",
       "      <td>https://dvd.netflix.com/Movie/Sully/80103102</td>\n",
       "      <td>https://dvd.netflix.com/Movie/Sully/80103102</td>\n",
       "      <td>[{'rel': 'alternate', 'href': 'https://dvd.net...</td>\n",
       "      <td>&lt;a href=\"https://dvd.netflix.com/Movie/Sully/8...</td>\n",
       "      <td>{'base': 'http://dvd.netflix.com/Top100RSS', '...</td>\n",
       "      <td>Sully</td>\n",
       "      <td>{'base': 'http://dvd.netflix.com/Top100RSS', '...</td>\n",
       "    </tr>\n",
       "    <tr>\n",
       "      <th>2</th>\n",
       "      <td>False</td>\n",
       "      <td>https://dvd.netflix.com/Movie/Jason-Bourne/800...</td>\n",
       "      <td>https://dvd.netflix.com/Movie/Jason-Bourne/800...</td>\n",
       "      <td>[{'rel': 'alternate', 'href': 'https://dvd.net...</td>\n",
       "      <td>&lt;a href=\"https://dvd.netflix.com/Movie/Jason-B...</td>\n",
       "      <td>{'base': 'http://dvd.netflix.com/Top100RSS', '...</td>\n",
       "      <td>Jason Bourne</td>\n",
       "      <td>{'base': 'http://dvd.netflix.com/Top100RSS', '...</td>\n",
       "    </tr>\n",
       "    <tr>\n",
       "      <th>3</th>\n",
       "      <td>False</td>\n",
       "      <td>https://dvd.netflix.com/Movie/The-Magnificent-...</td>\n",
       "      <td>https://dvd.netflix.com/Movie/The-Magnificent-...</td>\n",
       "      <td>[{'rel': 'alternate', 'href': 'https://dvd.net...</td>\n",
       "      <td>&lt;a href=\"https://dvd.netflix.com/Movie/The-Mag...</td>\n",
       "      <td>{'base': 'http://dvd.netflix.com/Top100RSS', '...</td>\n",
       "      <td>The Magnificent Seven</td>\n",
       "      <td>{'base': 'http://dvd.netflix.com/Top100RSS', '...</td>\n",
       "    </tr>\n",
       "    <tr>\n",
       "      <th>4</th>\n",
       "      <td>False</td>\n",
       "      <td>https://dvd.netflix.com/Movie/The-Accountant/8...</td>\n",
       "      <td>https://dvd.netflix.com/Movie/The-Accountant/8...</td>\n",
       "      <td>[{'rel': 'alternate', 'href': 'https://dvd.net...</td>\n",
       "      <td>&lt;a href=\"https://dvd.netflix.com/Movie/The-Acc...</td>\n",
       "      <td>{'base': 'http://dvd.netflix.com/Top100RSS', '...</td>\n",
       "      <td>The Accountant</td>\n",
       "      <td>{'base': 'http://dvd.netflix.com/Top100RSS', '...</td>\n",
       "    </tr>\n",
       "  </tbody>\n",
       "</table>\n",
       "</div>"
      ],
      "text/plain": [
       "  guidislink                                                 id  \\\n",
       "0      False  https://dvd.netflix.com/Movie/Game-of-Thrones/...   \n",
       "1      False       https://dvd.netflix.com/Movie/Sully/80103102   \n",
       "2      False  https://dvd.netflix.com/Movie/Jason-Bourne/800...   \n",
       "3      False  https://dvd.netflix.com/Movie/The-Magnificent-...   \n",
       "4      False  https://dvd.netflix.com/Movie/The-Accountant/8...   \n",
       "\n",
       "                                                link  \\\n",
       "0  https://dvd.netflix.com/Movie/Game-of-Thrones/...   \n",
       "1       https://dvd.netflix.com/Movie/Sully/80103102   \n",
       "2  https://dvd.netflix.com/Movie/Jason-Bourne/800...   \n",
       "3  https://dvd.netflix.com/Movie/The-Magnificent-...   \n",
       "4  https://dvd.netflix.com/Movie/The-Accountant/8...   \n",
       "\n",
       "                                               links  \\\n",
       "0  [{'rel': 'alternate', 'href': 'https://dvd.net...   \n",
       "1  [{'rel': 'alternate', 'href': 'https://dvd.net...   \n",
       "2  [{'rel': 'alternate', 'href': 'https://dvd.net...   \n",
       "3  [{'rel': 'alternate', 'href': 'https://dvd.net...   \n",
       "4  [{'rel': 'alternate', 'href': 'https://dvd.net...   \n",
       "\n",
       "                                             summary  \\\n",
       "0  <a href=\"https://dvd.netflix.com/Movie/Game-of...   \n",
       "1  <a href=\"https://dvd.netflix.com/Movie/Sully/8...   \n",
       "2  <a href=\"https://dvd.netflix.com/Movie/Jason-B...   \n",
       "3  <a href=\"https://dvd.netflix.com/Movie/The-Mag...   \n",
       "4  <a href=\"https://dvd.netflix.com/Movie/The-Acc...   \n",
       "\n",
       "                                      summary_detail                  title  \\\n",
       "0  {'base': 'http://dvd.netflix.com/Top100RSS', '...        Game of Thrones   \n",
       "1  {'base': 'http://dvd.netflix.com/Top100RSS', '...                  Sully   \n",
       "2  {'base': 'http://dvd.netflix.com/Top100RSS', '...           Jason Bourne   \n",
       "3  {'base': 'http://dvd.netflix.com/Top100RSS', '...  The Magnificent Seven   \n",
       "4  {'base': 'http://dvd.netflix.com/Top100RSS', '...         The Accountant   \n",
       "\n",
       "                                        title_detail  \n",
       "0  {'base': 'http://dvd.netflix.com/Top100RSS', '...  \n",
       "1  {'base': 'http://dvd.netflix.com/Top100RSS', '...  \n",
       "2  {'base': 'http://dvd.netflix.com/Top100RSS', '...  \n",
       "3  {'base': 'http://dvd.netflix.com/Top100RSS', '...  \n",
       "4  {'base': 'http://dvd.netflix.com/Top100RSS', '...  "
      ]
     },
     "execution_count": 28,
     "metadata": {},
     "output_type": "execute_result"
    }
   ],
   "source": [
    "df.head()"
   ]
  },
  {
   "cell_type": "markdown",
   "metadata": {},
   "source": [
    "Challenge: write code to create a dataframe of the top 10 movies from the Netflix Top 100 DVDs and iTunes. Check to see if your feed is well formed. Compile the name of the feed as the souce, the published date, the movie ranking in the list, the movie title, a link to the movie, and the summary. If the published date does not exist in the feed, use the current date. Save your dataframe as a csv. Here is a link to one [possible solution](./rss_challenge.py)."
   ]
  }
 ],
 "metadata": {
  "anaconda-cloud": {},
  "kernelspec": {
   "display_name": "Python 3",
   "language": "python",
   "name": "python3"
  },
  "language_info": {
   "codemirror_mode": {
    "name": "ipython",
    "version": 3
   },
   "file_extension": ".py",
   "mimetype": "text/x-python",
   "name": "python",
   "nbconvert_exporter": "python",
   "pygments_lexer": "ipython3",
   "version": "3.5.1"
  }
 },
 "nbformat": 4,
 "nbformat_minor": 1
}
